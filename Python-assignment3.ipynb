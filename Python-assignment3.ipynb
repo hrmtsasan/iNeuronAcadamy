{
 "cells": [
  {
   "cell_type": "markdown",
   "metadata": {},
   "source": [
    "# PYTHON ASSIGNMENT-3"
   ]
  },
  {
   "cell_type": "code",
   "execution_count": 2,
   "metadata": {},
   "outputs": [
    {
     "name": "stdout",
     "output_type": "stream",
     "text": [
      "Enter any number:10\n",
      "List : [1, 2, 3, 4, 5, 6, 7, 8, 9, 10]\n",
      "Sum of list elements: 55\n"
     ]
    }
   ],
   "source": [
    "#1.1\n",
    "\n",
    "#Sum of first n Natural numbers\n",
    "\n",
    "def myreduce(num_list):\n",
    "    sum_of_num = 0\n",
    "    for i in num_list:\n",
    "        sum_of_num = sum_of_num+i\n",
    "    return sum_of_num\n",
    "n = int(input(\"Enter any number:\"))\n",
    "num_list = list(range(1,n+1))\n",
    "print(\"List :\",num_list)\n",
    "print(\"Sum of list elements:\",myreduce(num_list))\n",
    "        \n",
    "    "
   ]
  },
  {
   "cell_type": "code",
   "execution_count": 3,
   "metadata": {},
   "outputs": [
    {
     "name": "stdout",
     "output_type": "stream",
     "text": [
      "Enter any number:10\n",
      "List : [1, 2, 3, 4, 5, 6, 7, 8, 9, 10]\n",
      "Sum of list elements: 55\n"
     ]
    }
   ],
   "source": [
    "#Sum of first n Natural numbers using Python's built-in function reduce()\n",
    "\n",
    "from functools import reduce\n",
    "\n",
    "n = int(input(\"Enter any number:\"))\n",
    "num_list = list(range(1,n+1))\n",
    "print(\"List :\",num_list)\n",
    "\n",
    "sum_of_elements = reduce((lambda x,y:x+y),num_list)\n",
    "print(\"Sum of list elements:\",sum_of_elements)"
   ]
  },
  {
   "cell_type": "code",
   "execution_count": 5,
   "metadata": {},
   "outputs": [
    {
     "name": "stdout",
     "output_type": "stream",
     "text": [
      "Enter the number:25\n",
      "List : [1, 2, 3, 4, 5, 6, 7, 8, 9, 10, 11, 12, 13, 14, 15, 16, 17, 18, 19, 20, 21, 22, 23, 24, 25]\n",
      "List of even numbers : [2, 4, 6, 8, 10, 12, 14, 16, 18, 20, 22, 24]\n",
      "List of odd numbers : [1, 3, 5, 7, 9, 11, 13, 15, 17, 19, 21, 23, 25]\n"
     ]
    }
   ],
   "source": [
    "#1.2\n",
    "\n",
    "#Filter the even and odd number from the list\n",
    "\n",
    "def myfilter(num_list):\n",
    "    even = []\n",
    "    odd = []\n",
    "    for i in num_list:\n",
    "        if i%2 ==0:\n",
    "            even.append(i)\n",
    "        else:\n",
    "            odd.append(i)\n",
    "    return even,odd\n",
    "\n",
    "n = int(input(\"Enter the number:\"))\n",
    "num_list = list(range(1,n+1))\n",
    "print(\"List :\",num_list)\n",
    "\n",
    "output_value = myfilter(num_list) \n",
    "\n",
    "print(\"List of even numbers :\",output_value[0])\n",
    "print(\"List of odd numbers :\",output_value[1])"
   ]
  },
  {
   "cell_type": "code",
   "execution_count": 6,
   "metadata": {},
   "outputs": [
    {
     "name": "stdout",
     "output_type": "stream",
     "text": [
      "Enter any number:25\n",
      "List : [1, 2, 3, 4, 5, 6, 7, 8, 9, 10, 11, 12, 13, 14, 15, 16, 17, 18, 19, 20, 21, 22, 23, 24, 25]\n",
      "List of even numbers : [2, 4, 6, 8, 10, 12, 14, 16, 18, 20, 22, 24]\n",
      "List of odd numbers : [1, 3, 5, 7, 9, 11, 13, 15, 17, 19, 21, 23, 25]\n"
     ]
    }
   ],
   "source": [
    "#Filter the even and odd number from the list using Python's built-in function filter()\n",
    "\n",
    "n = int(input(\"Enter any number:\"))\n",
    "num_list = list(range(1,n+1))\n",
    "print(\"List :\",num_list)\n",
    "\n",
    "even = list(filter((lambda x: x%2==0),num_list))\n",
    "odd = list(filter((lambda x: x%2!=0),num_list))\n",
    "print(\"List of even numbers :\",even)\n",
    "print(\"List of odd numbers :\",odd)"
   ]
  },
  {
   "cell_type": "code",
   "execution_count": 17,
   "metadata": {},
   "outputs": [
    {
     "name": "stdout",
     "output_type": "stream",
     "text": [
      "['x', 'xx', 'xxx', 'xxxx', 'y', 'yy', 'yyy', 'yyyy', 'z', 'zz', 'zzz', 'zzzz']\n",
      "['x', 'y', 'z', 'xx', 'yy', 'zz', 'xxx', 'yyy', 'zzz', 'xxxx', 'yyyy', 'zzzz']\n",
      "[[2], [3], [4], [3], [4], [5], [4], [5], [6]]\n",
      "[[2, 3, 4, 5], [3, 4, 5, 6], [4, 5, 6, 7], [5, 6, 7, 8]]\n",
      "[(1, 1), (2, 1), (3, 1), (1, 2), (2, 2), (3, 2), (1, 3), (2, 3), (3, 3)]\n"
     ]
    }
   ],
   "source": [
    "#2\n",
    "\n",
    "#1\n",
    "l = ['x','y','z']\n",
    "output_list = [i*n for i in l for n in range(1,5)]\n",
    "print(output_list)\n",
    "\n",
    "#2\n",
    "l = ['x','y','z']\n",
    "output_list = [n*i for n in range(1,5) for i in l]\n",
    "print(output_list)\n",
    "\n",
    "#3\n",
    "l = [2,3,4]\n",
    "output_list = [[i+n] for i in l for n in range(0,3)]\n",
    "print(output_list)\n",
    "\n",
    "#4\n",
    "l = [2,3,4,5]\n",
    "output_list = [[i+n for n in range(0,4)]  for i in l]\n",
    "print(output_list)\n",
    "\n",
    "#5\n",
    "l=[1,2,3]\n",
    "output_list = [(j,i) for i in l for j in l]\n",
    "print(output_list)\n"
   ]
  },
  {
   "cell_type": "code",
   "execution_count": null,
   "metadata": {},
   "outputs": [],
   "source": []
  },
  {
   "cell_type": "code",
   "execution_count": null,
   "metadata": {},
   "outputs": [],
   "source": []
  }
 ],
 "metadata": {
  "kernelspec": {
   "display_name": "Python 3",
   "language": "python",
   "name": "python3"
  },
  "language_info": {
   "codemirror_mode": {
    "name": "ipython",
    "version": 3
   },
   "file_extension": ".py",
   "mimetype": "text/x-python",
   "name": "python",
   "nbconvert_exporter": "python",
   "pygments_lexer": "ipython3",
   "version": "3.7.6"
  }
 },
 "nbformat": 4,
 "nbformat_minor": 4
}
