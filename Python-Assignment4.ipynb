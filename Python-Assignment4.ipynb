{
 "cells": [
  {
   "cell_type": "markdown",
   "metadata": {},
   "source": [
    "# PYTHON ASSIGNMENT-4"
   ]
  },
  {
   "cell_type": "code",
   "execution_count": 2,
   "metadata": {},
   "outputs": [
    {
     "name": "stdout",
     "output_type": "stream",
     "text": [
      "a=3\n",
      "b=4\n",
      "c=5\n",
      "Area: 6.0\n"
     ]
    }
   ],
   "source": [
    "#1.1\n",
    "\n",
    "class triangle:\n",
    "    def get_sides(self):\n",
    "        self.a = float(input(\"a=\"))\n",
    "\n",
    "        self.b = float(input(\"b=\"))\n",
    "        self.c = float(input(\"c=\"))\n",
    "class Area(triangle):\n",
    "\n",
    "    def calculate(self):\n",
    "        s = (self.a+self.b+self.c)/2\n",
    "        area = (s*(s-self.a)*(s-self.b)*(s-self.c))**0.5\n",
    "        return area\n",
    "\n",
    "ar = Area()\n",
    "ar.get_sides()\n",
    "print(\"Area:\",ar.calculate())\n"
   ]
  },
  {
   "cell_type": "code",
   "execution_count": 6,
   "metadata": {
    "scrolled": true
   },
   "outputs": [
    {
     "name": "stdout",
     "output_type": "stream",
     "text": [
      "['quick', 'brown', 'jumps', 'over', 'lazy']\n"
     ]
    }
   ],
   "source": [
    "#1.2\n",
    "\n",
    "def filter_long_words(words,n):\n",
    "    long_words = []\n",
    "    for i in words:\n",
    "        if len(i)>n:\n",
    "            long_words.append(i)\n",
    "    return long_words\n",
    "    \n",
    "words = [\"The\",\"quick\",\"brown\",\"fox\",\"jumps\",\"over\",\"the\",\"lazy\",\"dog\"]\n",
    "print(list(filter_long_words(words,3)))"
   ]
  },
  {
   "cell_type": "code",
   "execution_count": 5,
   "metadata": {},
   "outputs": [
    {
     "name": "stdout",
     "output_type": "stream",
     "text": [
      "Input:ab,cde,erty\n",
      "[2, 3, 4]\n"
     ]
    }
   ],
   "source": [
    "#2.1\n",
    "\n",
    "def map_words_to_length(l):\n",
    "    return list(map(len,l))\n",
    "    \n",
    "\n",
    "words = input(\"Input:\")\n",
    "l = words.split(',')\n",
    "length = map_words_to_length(l)\n",
    "print(length)\n",
    "    "
   ]
  },
  {
   "cell_type": "code",
   "execution_count": 14,
   "metadata": {},
   "outputs": [
    {
     "name": "stdout",
     "output_type": "stream",
     "text": [
      "Enter character to check if it is a vowel or not:\n",
      "U\n",
      "True\n"
     ]
    }
   ],
   "source": [
    "#2.2\n",
    "\n",
    "def vowel_checker(char):\n",
    "    vowels = ['a','e','i','o','u']\n",
    "    if char.lower() in vowels:\n",
    "        return True\n",
    "    else:\n",
    "        return False\n",
    "        \n",
    "print(\"Enter character to check if it is a vowel or not:\")\n",
    "char = input()\n",
    "print(vowel_checker(char))"
   ]
  },
  {
   "cell_type": "code",
   "execution_count": null,
   "metadata": {},
   "outputs": [],
   "source": []
  },
  {
   "cell_type": "code",
   "execution_count": null,
   "metadata": {},
   "outputs": [],
   "source": []
  }
 ],
 "metadata": {
  "kernelspec": {
   "display_name": "Python 3",
   "language": "python",
   "name": "python3"
  },
  "language_info": {
   "codemirror_mode": {
    "name": "ipython",
    "version": 3
   },
   "file_extension": ".py",
   "mimetype": "text/x-python",
   "name": "python",
   "nbconvert_exporter": "python",
   "pygments_lexer": "ipython3",
   "version": "3.7.6"
  }
 },
 "nbformat": 4,
 "nbformat_minor": 4
}
